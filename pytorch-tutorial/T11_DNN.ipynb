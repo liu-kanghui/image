{
  "nbformat": 4,
  "nbformat_minor": 0,
  "metadata": {
    "colab": {
      "name": "T11-DNN.ipynb",
      "version": "0.3.2",
      "provenance": [],
      "collapsed_sections": []
    },
    "kernelspec": {
      "name": "python3",
      "display_name": "Python 3"
    }
  },
  "cells": [
    {
      "metadata": {
        "id": "faZUXPTeDRl4",
        "colab_type": "code",
        "colab": {}
      },
      "cell_type": "code",
      "source": [
        "import torch\n",
        "import numpy as np\n",
        "import matplotlib.pyplot as plt\n",
        "import torch.nn as nn\n",
        "from sklearn import datasets\n",
        "\n",
        "n_pts= 500\n",
        "X, y =  datasets.make_circles(n_samples=n_pts, random_state=123, noise=0.1, factor=0.2)\n",
        "X_data = torch.Tensor(X)\n",
        "y_data = torch.Tensor(y.reshape(500,1))"
      ],
      "execution_count": 0,
      "outputs": []
    },
    {
      "metadata": {
        "id": "ZXnX1cbsOwJe",
        "colab_type": "code",
        "outputId": "d7c470f5-25f0-4972-d321-6d7cdb1d25b3",
        "colab": {
          "base_uri": "https://localhost:8080/",
          "height": 347
        }
      },
      "cell_type": "code",
      "source": [
        "def scatter_plot():\n",
        "  plt.scatter(X[y==0, 0], X[y==0, 1])\n",
        "  plt.scatter(X[y==1, 0], X[y==1, 1])\n",
        "  \n",
        "scatter_plot()"
      ],
      "execution_count": 0,
      "outputs": [
        {
          "output_type": "display_data",
          "data": {
            "image/png": "[encoded data removed]",
            "text/plain": [
              "<Figure size 576x396 with 1 Axes>"
            ]
          },
          "metadata": {
            "tags": []
          }
        }
      ]
    },
    {
      "metadata": {
        "id": "_ZXEafOkO5i3",
        "colab_type": "code",
        "colab": {}
      },
      "cell_type": "code",
      "source": [
        ""
      ],
      "execution_count": 0,
      "outputs": []
    },
    {
      "metadata": {
        "id": "YD1z33VzO017",
        "colab_type": "code",
        "colab": {}
      },
      "cell_type": "code",
      "source": [
        "class Model(nn.Module):\n",
        "  def __init__(self, input_size, H1, output_size):\n",
        "    super().__init__()\n",
        "    self.linear = nn.Linear(input_size, H1)\n",
        "    self.linear2 = nn.Linear(H1, output_size)\n",
        "    \n",
        "  def forward(self, x):\n",
        "    x = torch.sigmoid(self.linear(x))\n",
        "    x = torch.sigmoid(self.linear2(x))\n",
        "    return x\n",
        "  \n",
        "  def predict(self, x):\n",
        "    pred = self.forward(x)\n",
        "    if pred >= 0.5:\n",
        "      return 1\n",
        "    else:\n",
        "      return 0"
      ],
      "execution_count": 0,
      "outputs": []
    },
    {
      "metadata": {
        "id": "zbIuHVtcO63j",
        "colab_type": "code",
        "outputId": "8c5b9455-fc96-4e04-9c6e-a8704ae073b5",
        "colab": {
          "base_uri": "https://localhost:8080/",
          "height": 153
        }
      },
      "cell_type": "code",
      "source": [
        "torch.manual_seed(2)\n",
        "model = Model(2, 4, 1)\n",
        "print(list(model.parameters()))"
      ],
      "execution_count": 0,
      "outputs": [
        {
          "output_type": "stream",
          "text": [
            "[Parameter containing:\n",
            "tensor([[ 0.1622, -0.1683],\n",
            "        [ 0.1939, -0.0361],\n",
            "        [ 0.3021,  0.1683],\n",
            "        [-0.0813, -0.5717]], requires_grad=True), Parameter containing:\n",
            "tensor([ 0.1614, -0.6260,  0.0929,  0.0470], requires_grad=True), Parameter containing:\n",
            "tensor([[-0.1099,  0.4088,  0.0334,  0.2073]], requires_grad=True), Parameter containing:\n",
            "tensor([0.2116], requires_grad=True)]\n"
          ],
          "name": "stdout"
        }
      ]
    },
    {
      "metadata": {
        "id": "FQ8B0ud7Pd2e",
        "colab_type": "code",
        "colab": {}
      },
      "cell_type": "code",
      "source": [
        "criterion = nn.BCELoss()\n",
        "optimizer = torch.optim.Adam(model.parameters(), lr=0.1)"
      ],
      "execution_count": 0,
      "outputs": []
    },
    {
      "metadata": {
        "id": "3HyowuVsP-kA",
        "colab_type": "code",
        "outputId": "946aeca8-75fc-480c-fea5-f05169ad950c",
        "colab": {
          "base_uri": "https://localhost:8080/",
          "height": 6817
        }
      },
      "cell_type": "code",
      "source": [
        "epochs = 400\n",
        "losses = []\n",
        "for i in range(epochs):\n",
        "  y_pred = model.forward(X_data)\n",
        "  loss = criterion(y_pred, y_data)\n",
        "  print(\"epoch:\", i, \"loss\", loss.item())\n",
        "  losses.append(loss.item())\n",
        "  \n",
        "  optimizer.zero_grad()\n",
        "  loss.backward()\n",
        "  optimizer.step()"
      ],
      "execution_count": 0,
      "outputs": [
        {
          "output_type": "stream",
          "text": [
            "epoch: 0 loss 0.7148522138595581\n",
            "epoch: 1 loss 0.6947312355041504\n",
            "epoch: 2 loss 0.6955161094665527\n",
            "epoch: 3 loss 0.7014897465705872\n",
            "epoch: 4 loss 0.7013992667198181\n",
            "epoch: 5 loss 0.697472095489502\n",
            "epoch: 6 loss 0.6939275860786438\n",
            "epoch: 7 loss 0.6928625106811523\n",
            "epoch: 8 loss 0.693941593170166\n",
            "epoch: 9 loss 0.6954426765441895\n",
            "epoch: 10 loss 0.6958808302879333\n",
            "epoch: 11 loss 0.6949241757392883\n",
            "epoch: 12 loss 0.693157970905304\n",
            "epoch: 13 loss 0.6914014220237732\n",
            "epoch: 14 loss 0.6901755332946777\n",
            "epoch: 15 loss 0.6894776225090027\n",
            "epoch: 16 loss 0.6888664364814758\n",
            "epoch: 17 loss 0.6877952814102173\n",
            "epoch: 18 loss 0.6859349608421326\n",
            "epoch: 19 loss 0.6832882165908813\n",
            "epoch: 20 loss 0.6800878047943115\n",
            "epoch: 21 loss 0.6766111850738525\n",
            "epoch: 22 loss 0.6730255484580994\n",
            "epoch: 23 loss 0.6693331003189087\n",
            "epoch: 24 loss 0.6653968095779419\n",
            "epoch: 25 loss 0.661038875579834\n",
            "epoch: 26 loss 0.6561349034309387\n",
            "epoch: 27 loss 0.6506633758544922\n",
            "epoch: 28 loss 0.6446858048439026\n",
            "epoch: 29 loss 0.6382841467857361\n",
            "epoch: 30 loss 0.6314954161643982\n",
            "epoch: 31 loss 0.6242801547050476\n",
            "epoch: 32 loss 0.6165382266044617\n",
            "epoch: 33 loss 0.6081583499908447\n",
            "epoch: 34 loss 0.599071741104126\n",
            "epoch: 35 loss 0.5892831683158875\n",
            "epoch: 36 loss 0.5788646340370178\n",
            "epoch: 37 loss 0.567934513092041\n",
            "epoch: 38 loss 0.5566170811653137\n",
            "epoch: 39 loss 0.5450131893157959\n",
            "epoch: 40 loss 0.5331881046295166\n",
            "epoch: 41 loss 0.5211832523345947\n",
            "epoch: 42 loss 0.5090473890304565\n",
            "epoch: 43 loss 0.4968593716621399\n",
            "epoch: 44 loss 0.4847228527069092\n",
            "epoch: 45 loss 0.47273701429367065\n",
            "epoch: 46 loss 0.4609636068344116\n",
            "epoch: 47 loss 0.4494229555130005\n",
            "epoch: 48 loss 0.43812456727027893\n",
            "epoch: 49 loss 0.4271085262298584\n",
            "epoch: 50 loss 0.4164563715457916\n",
            "epoch: 51 loss 0.40626832842826843\n",
            "epoch: 52 loss 0.39661893248558044\n",
            "epoch: 53 loss 0.3875318765640259\n",
            "epoch: 54 loss 0.378994345664978\n",
            "epoch: 55 loss 0.3709823787212372\n",
            "epoch: 56 loss 0.36346206068992615\n",
            "epoch: 57 loss 0.3563742935657501\n",
            "epoch: 58 loss 0.3496249318122864\n",
            "epoch: 59 loss 0.3431106209754944\n",
            "epoch: 60 loss 0.3367486596107483\n",
            "epoch: 61 loss 0.3304867148399353\n",
            "epoch: 62 loss 0.3242776691913605\n",
            "epoch: 63 loss 0.31806063652038574\n",
            "epoch: 64 loss 0.31176477670669556\n",
            "epoch: 65 loss 0.30532965064048767\n",
            "epoch: 66 loss 0.2987109124660492\n",
            "epoch: 67 loss 0.29187169671058655\n",
            "epoch: 68 loss 0.2847749590873718\n",
            "epoch: 69 loss 0.2773880362510681\n",
            "epoch: 70 loss 0.26968953013420105\n",
            "epoch: 71 loss 0.26166868209838867\n",
            "epoch: 72 loss 0.25331950187683105\n",
            "epoch: 73 loss 0.24464131891727448\n",
            "epoch: 74 loss 0.23564566671848297\n",
            "epoch: 75 loss 0.22636836767196655\n",
            "epoch: 76 loss 0.2168763428926468\n",
            "epoch: 77 loss 0.20726433396339417\n",
            "epoch: 78 loss 0.19764815270900726\n",
            "epoch: 79 loss 0.18815308809280396\n",
            "epoch: 80 loss 0.17889809608459473\n",
            "epoch: 81 loss 0.16998136043548584\n",
            "epoch: 82 loss 0.161468505859375\n",
            "epoch: 83 loss 0.15338830649852753\n",
            "epoch: 84 loss 0.1457403600215912\n",
            "epoch: 85 loss 0.13850761950016022\n",
            "epoch: 86 loss 0.13167054951190948\n",
            "epoch: 87 loss 0.12521560490131378\n",
            "epoch: 88 loss 0.11913655698299408\n",
            "epoch: 89 loss 0.11343125998973846\n",
            "epoch: 90 loss 0.10809607803821564\n",
            "epoch: 91 loss 0.10312210768461227\n",
            "epoch: 92 loss 0.09849374741315842\n",
            "epoch: 93 loss 0.09419038146734238\n",
            "epoch: 94 loss 0.09018869698047638\n",
            "epoch: 95 loss 0.08646497875452042\n",
            "epoch: 96 loss 0.08299638330936432\n",
            "epoch: 97 loss 0.0797617956995964\n",
            "epoch: 98 loss 0.07674173265695572\n",
            "epoch: 99 loss 0.07391861081123352\n",
            "epoch: 100 loss 0.07127668708562851\n",
            "epoch: 101 loss 0.06880202144384384\n",
            "epoch: 102 loss 0.06648234277963638\n",
            "epoch: 103 loss 0.06430692970752716\n",
            "epoch: 104 loss 0.06226589158177376\n",
            "epoch: 105 loss 0.060350000858306885\n",
            "epoch: 106 loss 0.058550454676151276\n",
            "epoch: 107 loss 0.05685851722955704\n",
            "epoch: 108 loss 0.05526623874902725\n",
            "epoch: 109 loss 0.053765829652547836\n",
            "epoch: 110 loss 0.05235031992197037\n",
            "epoch: 111 loss 0.05101332813501358\n",
            "epoch: 112 loss 0.04974920675158501\n",
            "epoch: 113 loss 0.04855281487107277\n",
            "epoch: 114 loss 0.04741957038640976\n",
            "epoch: 115 loss 0.04634511098265648\n",
            "epoch: 116 loss 0.045325327664613724\n",
            "epoch: 117 loss 0.044356316328048706\n",
            "epoch: 118 loss 0.043434325605630875\n",
            "epoch: 119 loss 0.04255584254860878\n",
            "epoch: 120 loss 0.041717443615198135\n",
            "epoch: 121 loss 0.040916189551353455\n",
            "epoch: 122 loss 0.04014918580651283\n",
            "epoch: 123 loss 0.03941398113965988\n",
            "epoch: 124 loss 0.038708340376615524\n",
            "epoch: 125 loss 0.03803040459752083\n",
            "epoch: 126 loss 0.03737841546535492\n",
            "epoch: 127 loss 0.03675095736980438\n",
            "epoch: 128 loss 0.03614671528339386\n",
            "epoch: 129 loss 0.03556445986032486\n",
            "epoch: 130 loss 0.03500307723879814\n",
            "epoch: 131 loss 0.03446146845817566\n",
            "epoch: 132 loss 0.03393857553601265\n",
            "epoch: 133 loss 0.033433444797992706\n",
            "epoch: 134 loss 0.032945115119218826\n",
            "epoch: 135 loss 0.032472606748342514\n",
            "epoch: 136 loss 0.03201509639620781\n",
            "epoch: 137 loss 0.03157180920243263\n",
            "epoch: 138 loss 0.031141983345150948\n",
            "epoch: 139 loss 0.030724940821528435\n",
            "epoch: 140 loss 0.03032008372247219\n",
            "epoch: 141 loss 0.029926858842372894\n",
            "epoch: 142 loss 0.029544737190008163\n",
            "epoch: 143 loss 0.02917322888970375\n",
            "epoch: 144 loss 0.028811901807785034\n",
            "epoch: 145 loss 0.02846027910709381\n",
            "epoch: 146 loss 0.02811797335743904\n",
            "epoch: 147 loss 0.02778458409011364\n",
            "epoch: 148 loss 0.027459708973765373\n",
            "epoch: 149 loss 0.027142977342009544\n",
            "epoch: 150 loss 0.026834040880203247\n",
            "epoch: 151 loss 0.02653254009783268\n",
            "epoch: 152 loss 0.026238173246383667\n",
            "epoch: 153 loss 0.025950629264116287\n",
            "epoch: 154 loss 0.025669632479548454\n",
            "epoch: 155 loss 0.025394927710294724\n",
            "epoch: 156 loss 0.025126241147518158\n",
            "epoch: 157 loss 0.02486337535083294\n",
            "epoch: 158 loss 0.02460610494017601\n",
            "epoch: 159 loss 0.02435426414012909\n",
            "epoch: 160 loss 0.024107566103339195\n",
            "epoch: 161 loss 0.023865947499871254\n",
            "epoch: 162 loss 0.02362917549908161\n",
            "epoch: 163 loss 0.02339707314968109\n",
            "epoch: 164 loss 0.023169543594121933\n",
            "epoch: 165 loss 0.022946393117308617\n",
            "epoch: 166 loss 0.02272750623524189\n",
            "epoch: 167 loss 0.02251272276043892\n",
            "epoch: 168 loss 0.02230190299451351\n",
            "epoch: 169 loss 0.02209496684372425\n",
            "epoch: 170 loss 0.021891767159104347\n",
            "epoch: 171 loss 0.02169221267104149\n",
            "epoch: 172 loss 0.021496199071407318\n",
            "epoch: 173 loss 0.02130361646413803\n",
            "epoch: 174 loss 0.021114341914653778\n",
            "epoch: 175 loss 0.02092834562063217\n",
            "epoch: 176 loss 0.020745472982525826\n",
            "epoch: 177 loss 0.020565692335367203\n",
            "epoch: 178 loss 0.020388884469866753\n",
            "epoch: 179 loss 0.020214980468153954\n",
            "epoch: 180 loss 0.020043928176164627\n",
            "epoch: 181 loss 0.01987561583518982\n",
            "epoch: 182 loss 0.019709981977939606\n",
            "epoch: 183 loss 0.01954697072505951\n",
            "epoch: 184 loss 0.019386528059840202\n",
            "epoch: 185 loss 0.01922856643795967\n",
            "epoch: 186 loss 0.01907302625477314\n",
            "epoch: 187 loss 0.018919849768280983\n",
            "epoch: 188 loss 0.018768999725580215\n",
            "epoch: 189 loss 0.018620390444993973\n",
            "epoch: 190 loss 0.018473971635103226\n",
            "epoch: 191 loss 0.018329724669456482\n",
            "epoch: 192 loss 0.01818755455315113\n",
            "epoch: 193 loss 0.018047457560896873\n",
            "epoch: 194 loss 0.017909366637468338\n",
            "epoch: 195 loss 0.017773212864995003\n",
            "epoch: 196 loss 0.017638985067605972\n",
            "epoch: 197 loss 0.017506632953882217\n",
            "epoch: 198 loss 0.017376108095049858\n",
            "epoch: 199 loss 0.01724737510085106\n",
            "epoch: 200 loss 0.017120394855737686\n",
            "epoch: 201 loss 0.016995126381516457\n",
            "epoch: 202 loss 0.016871538013219833\n",
            "epoch: 203 loss 0.016749590635299683\n",
            "epoch: 204 loss 0.016629254445433617\n",
            "epoch: 205 loss 0.016510486602783203\n",
            "epoch: 206 loss 0.016393277794122696\n",
            "epoch: 207 loss 0.016277581453323364\n",
            "epoch: 208 loss 0.016163358464837074\n",
            "epoch: 209 loss 0.016050592064857483\n",
            "epoch: 210 loss 0.015939239412546158\n",
            "epoch: 211 loss 0.0158293005079031\n",
            "epoch: 212 loss 0.015720723196864128\n",
            "epoch: 213 loss 0.01561348419636488\n",
            "epoch: 214 loss 0.015507567673921585\n",
            "epoch: 215 loss 0.015402935445308685\n",
            "epoch: 216 loss 0.015299572609364986\n",
            "epoch: 217 loss 0.015197459608316422\n",
            "epoch: 218 loss 0.01509656012058258\n",
            "epoch: 219 loss 0.014996864832937717\n",
            "epoch: 220 loss 0.014898356050252914\n",
            "epoch: 221 loss 0.014800972305238247\n",
            "epoch: 222 loss 0.01470473688095808\n",
            "epoch: 223 loss 0.01460962276905775\n",
            "epoch: 224 loss 0.014515599235892296\n",
            "epoch: 225 loss 0.014422631822526455\n",
            "epoch: 226 loss 0.014330736361443996\n",
            "epoch: 227 loss 0.01423988863825798\n",
            "epoch: 228 loss 0.014150048606097698\n",
            "epoch: 229 loss 0.014061207883059978\n",
            "epoch: 230 loss 0.01397334598004818\n",
            "epoch: 231 loss 0.013886465691030025\n",
            "epoch: 232 loss 0.013800540938973427\n",
            "epoch: 233 loss 0.013715534470975399\n",
            "epoch: 234 loss 0.013631449081003666\n",
            "epoch: 235 loss 0.013548275455832481\n",
            "epoch: 236 loss 0.013465991243720055\n",
            "epoch: 237 loss 0.01338458526879549\n",
            "epoch: 238 loss 0.013304034247994423\n",
            "epoch: 239 loss 0.013224335387349129\n",
            "epoch: 240 loss 0.01314546912908554\n",
            "epoch: 241 loss 0.013067418709397316\n",
            "epoch: 242 loss 0.012990178540349007\n",
            "epoch: 243 loss 0.01291373185813427\n",
            "epoch: 244 loss 0.012838074006140232\n",
            "epoch: 245 loss 0.012763177044689655\n",
            "epoch: 246 loss 0.012689037248492241\n",
            "epoch: 247 loss 0.012615654617547989\n",
            "epoch: 248 loss 0.012542994692921638\n",
            "epoch: 249 loss 0.012471077032387257\n",
            "epoch: 250 loss 0.012399842031300068\n",
            "epoch: 251 loss 0.012329336255788803\n",
            "epoch: 252 loss 0.012259519658982754\n",
            "epoch: 253 loss 0.012190369889140129\n",
            "epoch: 254 loss 0.012121908366680145\n",
            "epoch: 255 loss 0.01205409225076437\n",
            "epoch: 256 loss 0.011986932717263699\n",
            "epoch: 257 loss 0.01192041952162981\n",
            "epoch: 258 loss 0.011854537762701511\n",
            "epoch: 259 loss 0.011789293959736824\n",
            "epoch: 260 loss 0.011724628508090973\n",
            "epoch: 261 loss 0.011660599149763584\n",
            "epoch: 262 loss 0.01159717421978712\n",
            "epoch: 263 loss 0.0115343127399683\n",
            "epoch: 264 loss 0.011472043581306934\n",
            "epoch: 265 loss 0.011410360224545002\n",
            "epoch: 266 loss 0.011349229142069817\n",
            "epoch: 267 loss 0.011288655921816826\n",
            "epoch: 268 loss 0.011228621937334538\n",
            "epoch: 269 loss 0.011169148609042168\n",
            "epoch: 270 loss 0.011110197752714157\n",
            "epoch: 271 loss 0.011051773093640804\n",
            "epoch: 272 loss 0.010993871837854385\n",
            "epoch: 273 loss 0.01093649584800005\n",
            "epoch: 274 loss 0.01087961345911026\n",
            "epoch: 275 loss 0.010823245160281658\n",
            "epoch: 276 loss 0.010767343454062939\n",
            "epoch: 277 loss 0.010711945593357086\n",
            "epoch: 278 loss 0.010657034814357758\n",
            "epoch: 279 loss 0.010602590627968311\n",
            "epoch: 280 loss 0.010548616759479046\n",
            "epoch: 281 loss 0.010495091788470745\n",
            "epoch: 282 loss 0.010442028753459454\n",
            "epoch: 283 loss 0.010389419272542\n",
            "epoch: 284 loss 0.010337254032492638\n",
            "epoch: 285 loss 0.010285531170666218\n",
            "epoch: 286 loss 0.010234236717224121\n",
            "epoch: 287 loss 0.010183373466134071\n",
            "epoch: 288 loss 0.010132933035492897\n",
            "epoch: 289 loss 0.010082898661494255\n",
            "epoch: 290 loss 0.010033289901912212\n",
            "epoch: 291 loss 0.00998407881706953\n",
            "epoch: 292 loss 0.009935273788869381\n",
            "epoch: 293 loss 0.00988686177879572\n",
            "epoch: 294 loss 0.009838852100074291\n",
            "epoch: 295 loss 0.009791211225092411\n",
            "epoch: 296 loss 0.009743969887495041\n",
            "epoch: 297 loss 0.009697097353637218\n",
            "epoch: 298 loss 0.009650609456002712\n",
            "epoch: 299 loss 0.009604481048882008\n",
            "epoch: 300 loss 0.009558715857565403\n",
            "epoch: 301 loss 0.00951332040131092\n",
            "epoch: 302 loss 0.009468273259699345\n",
            "epoch: 303 loss 0.009423571638762951\n",
            "epoch: 304 loss 0.009379226714372635\n",
            "epoch: 305 loss 0.009335225448012352\n",
            "epoch: 306 loss 0.009291558526456356\n",
            "epoch: 307 loss 0.009248236194252968\n",
            "epoch: 308 loss 0.009205232374370098\n",
            "epoch: 309 loss 0.009162569418549538\n",
            "epoch: 310 loss 0.009120220318436623\n",
            "epoch: 311 loss 0.009078188799321651\n",
            "epoch: 312 loss 0.009036477655172348\n",
            "epoch: 313 loss 0.008995087817311287\n",
            "epoch: 314 loss 0.008954005315899849\n",
            "epoch: 315 loss 0.00891322921961546\n",
            "epoch: 316 loss 0.008872750215232372\n",
            "epoch: 317 loss 0.008832575753331184\n",
            "epoch: 318 loss 0.008792692795395851\n",
            "epoch: 319 loss 0.008753113448619843\n",
            "epoch: 320 loss 0.00871380977332592\n",
            "epoch: 321 loss 0.008674792014062405\n",
            "epoch: 322 loss 0.008636065758764744\n",
            "epoch: 323 loss 0.00859761517494917\n",
            "epoch: 324 loss 0.00855944398790598\n",
            "epoch: 325 loss 0.008521548472344875\n",
            "epoch: 326 loss 0.008483917452394962\n",
            "epoch: 327 loss 0.008446559309959412\n",
            "epoch: 328 loss 0.008409467525780201\n",
            "epoch: 329 loss 0.008372627198696136\n",
            "epoch: 330 loss 0.008336056023836136\n",
            "epoch: 331 loss 0.008299744687974453\n",
            "epoch: 332 loss 0.008263678289949894\n",
            "epoch: 333 loss 0.008227871730923653\n",
            "epoch: 334 loss 0.008192315697669983\n",
            "epoch: 335 loss 0.008156996220350266\n",
            "epoch: 336 loss 0.008121922612190247\n",
            "epoch: 337 loss 0.008087096735835075\n",
            "epoch: 338 loss 0.008052508346736431\n",
            "epoch: 339 loss 0.008018153719604015\n",
            "epoch: 340 loss 0.007984041236341\n",
            "epoch: 341 loss 0.007950142957270145\n",
            "epoch: 342 loss 0.007916491478681564\n",
            "epoch: 343 loss 0.00788305327296257\n",
            "epoch: 344 loss 0.007849844172596931\n",
            "epoch: 345 loss 0.007816866971552372\n",
            "epoch: 346 loss 0.007784097921103239\n",
            "epoch: 347 loss 0.007751546334475279\n",
            "epoch: 348 loss 0.007719220127910376\n",
            "epoch: 349 loss 0.007687097880989313\n",
            "epoch: 350 loss 0.007655191235244274\n",
            "epoch: 351 loss 0.007623497396707535\n",
            "epoch: 352 loss 0.007592014968395233\n",
            "epoch: 353 loss 0.007560729049146175\n",
            "epoch: 354 loss 0.0075296503491699696\n",
            "epoch: 355 loss 0.007498762104660273\n",
            "epoch: 356 loss 0.007468090392649174\n",
            "epoch: 357 loss 0.00743761146441102\n",
            "epoch: 358 loss 0.0074073271825909615\n",
            "epoch: 359 loss 0.007377236150205135\n",
            "epoch: 360 loss 0.007347338367253542\n",
            "epoch: 361 loss 0.007317631505429745\n",
            "epoch: 362 loss 0.007288113236427307\n",
            "epoch: 363 loss 0.007258783094584942\n",
            "epoch: 364 loss 0.0072296373546123505\n",
            "epoch: 365 loss 0.0072006783448159695\n",
            "epoch: 366 loss 0.007171896751970053\n",
            "epoch: 367 loss 0.007143298629671335\n",
            "epoch: 368 loss 0.007114880718290806\n",
            "epoch: 369 loss 0.00708663510158658\n",
            "epoch: 370 loss 0.007058569695800543\n",
            "epoch: 371 loss 0.007030674256384373\n",
            "epoch: 372 loss 0.007002952042967081\n",
            "epoch: 373 loss 0.006975407246500254\n",
            "epoch: 374 loss 0.006948031950742006\n",
            "epoch: 375 loss 0.006920812651515007\n",
            "epoch: 376 loss 0.006893768906593323\n",
            "epoch: 377 loss 0.006866890005767345\n",
            "epoch: 378 loss 0.006840173155069351\n",
            "epoch: 379 loss 0.006813624873757362\n",
            "epoch: 380 loss 0.006787230260670185\n",
            "epoch: 381 loss 0.006761001423001289\n",
            "epoch: 382 loss 0.006734933238476515\n",
            "epoch: 383 loss 0.006709013134241104\n",
            "epoch: 384 loss 0.006683253217488527\n",
            "epoch: 385 loss 0.006657651625573635\n",
            "epoch: 386 loss 0.00663219578564167\n",
            "epoch: 387 loss 0.006606899667531252\n",
            "epoch: 388 loss 0.00658175116404891\n",
            "epoch: 389 loss 0.006556747015565634\n",
            "epoch: 390 loss 0.006531901191920042\n",
            "epoch: 391 loss 0.0065071978606283665\n",
            "epoch: 392 loss 0.006482640281319618\n",
            "epoch: 393 loss 0.006458229850977659\n",
            "epoch: 394 loss 0.006433961447328329\n",
            "epoch: 395 loss 0.0064098346047103405\n",
            "epoch: 396 loss 0.0063858479261398315\n",
            "epoch: 397 loss 0.0063620032742619514\n",
            "epoch: 398 loss 0.006338302977383137\n",
            "epoch: 399 loss 0.006314740050584078\n"
          ],
          "name": "stdout"
        }
      ]
    },
    {
      "metadata": {
        "id": "OPc0TBopQPu5",
        "colab_type": "code",
        "outputId": "da9664cd-73a4-4c26-86cb-1e5e26025c14",
        "colab": {
          "base_uri": "https://localhost:8080/",
          "height": 378
        }
      },
      "cell_type": "code",
      "source": [
        "plt.plot(range(epochs), losses)\n",
        "plt.ylabel('Loss')\n",
        "plt.xlabel('epoch')"
      ],
      "execution_count": 0,
      "outputs": [
        {
          "output_type": "execute_result",
          "data": {
            "text/plain": [
              "Text(0.5, 0, 'epoch')"
            ]
          },
          "metadata": {
            "tags": []
          },
          "execution_count": 10
        },
        {
          "output_type": "display_data",
          "data": {
            "image/png": "[encoded data removed]",
            "text/plain": [
              "<Figure size 576x396 with 1 Axes>"
            ]
          },
          "metadata": {
            "tags": []
          }
        }
      ]
    },
    {
      "metadata": {
        "id": "-Gz67UklvVts",
        "colab_type": "code",
        "colab": {}
      },
      "cell_type": "code",
      "source": [
        "def plot_decision_boundary(X,y):\n",
        "  x_span = np.linspace(min(X[:, 0]) -0.25, max(X[:, 0])+0.25)\n",
        "  y_span = np.linspace(min(X[:, 1]) -0.25, max(X[:,1])+0.25)\n",
        "  xx, yy = np.meshgrid(x_span, y_span)\n",
        "  grid = torch.Tensor(np.c_[xx.ravel(), yy.ravel()])\n",
        "  pred_func = model.forward(grid)\n",
        "  z = pred_func.view(xx.shape).detach().numpy()\n",
        "  plt.contourf(xx, yy, z)"
      ],
      "execution_count": 0,
      "outputs": []
    },
    {
      "metadata": {
        "id": "_BgY_7kEvdoX",
        "colab_type": "code",
        "outputId": "9990aa2a-ab40-449a-b6e8-a17f6a5d5bea",
        "colab": {
          "base_uri": "https://localhost:8080/",
          "height": 500
        }
      },
      "cell_type": "code",
      "source": [
        "plot_decision_boundary(X,y)\n",
        "scatter_plot()"
      ],
      "execution_count": 0,
      "outputs": [
        {
          "output_type": "stream",
          "text": [
            "[-1.13339265 -1.08546    -1.03752735 -0.98959471 -0.94166206 -0.89372941\n",
            " -0.84579676 -0.79786411 -0.74993147 -0.70199882 -0.65406617 -0.60613352\n",
            " -0.55820088 -0.51026823 -0.46233558 -0.41440293 -0.36647028 -0.31853764\n",
            " -0.27060499 -0.22267234 -0.17473969 -0.12680704 -0.0788744  -0.03094175\n",
            "  0.0169909   0.06492355  0.11285619  0.16078884  0.20872149  0.25665414\n",
            "  0.30458679  0.35251943  0.40045208  0.44838473  0.49631738  0.54425002\n",
            "  0.59218267  0.64011532  0.68804797  0.73598062  0.78391326  0.83184591\n",
            "  0.87977856  0.92771121  0.97564386  1.0235765   1.07150915  1.1194418\n",
            "  1.16737445  1.21530709]\n"
          ],
          "name": "stdout"
        },
        {
          "output_type": "display_data",
          "data": {
            "image/png": "[encoded data removed]",
            "text/plain": [
              "<Figure size 576x396 with 1 Axes>"
            ]
          },
          "metadata": {
            "tags": []
          }
        }
      ]
    },
    {
      "metadata": {
        "id": "50oLta3LyU27",
        "colab_type": "code",
        "outputId": "08f50b17-d5c4-4b90-9e0a-3d60482359db",
        "colab": {
          "base_uri": "https://localhost:8080/",
          "height": 517
        }
      },
      "cell_type": "code",
      "source": [
        "x = 0.025\n",
        "y = 0.025\n",
        "point  = torch.Tensor([x, y])\n",
        "prediction = model.predict(point)\n",
        "plt.plot([x], [y], marker='o', markersize=10, color='red')\n",
        "print(\"Prediction is\", prediction)\n",
        "plot_decision_boundary(X,y)"
      ],
      "execution_count": 0,
      "outputs": [
        {
          "output_type": "stream",
          "text": [
            "Prediction is 1\n",
            "[-1.38339265 -1.32525592 -1.26711919 -1.20898246 -1.15084573 -1.092709\n",
            " -1.03457227 -0.97643554 -0.91829881 -0.86016208 -0.80202536 -0.74388863\n",
            " -0.6857519  -0.62761517 -0.56947844 -0.51134171 -0.45320498 -0.39506825\n",
            " -0.33693152 -0.27879479 -0.22065806 -0.16252133 -0.1043846  -0.04624787\n",
            "  0.01188886  0.07002559  0.12816232  0.18629905  0.24443578  0.30257251\n",
            "  0.36070923  0.41884596  0.47698269  0.53511942  0.59325615  0.65139288\n",
            "  0.70952961  0.76766634  0.82580307  0.8839398   0.94207653  1.00021326\n",
            "  1.05834999  1.11648672  1.17462345  1.23276018  1.29089691  1.34903364\n",
            "  1.40717037  1.46530709]\n"
          ],
          "name": "stdout"
        },
        {
          "output_type": "display_data",
          "data": {
            "image/png": "[encoded data removed]",
            "text/plain": [
              "<Figure size 576x396 with 1 Axes>"
            ]
          },
          "metadata": {
            "tags": []
          }
        }
      ]
    }
  ]
}